{
 "cells": [
  {
   "cell_type": "code",
   "execution_count": 1,
   "metadata": {
    "ExecuteTime": {
     "end_time": "2020-07-15T17:11:58.547612Z",
     "start_time": "2020-07-15T17:11:56.524023Z"
    }
   },
   "outputs": [],
   "source": [
    "import pandas as pd\n",
    "import numpy as np\n",
    "import matplotlib.pyplot as plt\n",
    "import seaborn as sns\n",
    "import geopandas\n",
    "import folium\n",
    "from geopy.geocoders import Nominatim\n",
    "from geopy.exc import GeocoderTimedOut\n",
    "from geopy.exc import GeocoderNotFound\n",
    "import requests\n",
    "from sklearn.preprocessing import MinMaxScaler"
   ]
  },
  {
   "cell_type": "code",
   "execution_count": 2,
   "metadata": {
    "ExecuteTime": {
     "end_time": "2020-07-15T17:11:58.556624Z",
     "start_time": "2020-07-15T17:11:58.549606Z"
    }
   },
   "outputs": [],
   "source": [
    "pd.set_option('display.max_columns', None)\n",
    "pd.set_option('display.max_rows', None)"
   ]
  },
  {
   "cell_type": "markdown",
   "metadata": {},
   "source": [
    "# Population data for the state of Maine\n",
    "\n",
    "Below is the population projection data for the state of Maine broken down by county. It shows population projects for the following years:\n",
    "- 2016 (Observed)\n",
    "- 2021\n",
    "- 2026\n",
    "- 2031\n",
    "- 2036\n",
    "\n",
    "The data is read directly from the website. Since the dataframe initially sets up a multilevel column index, we drop the top level and also rename column 0 to County since it is unnamed in the source data."
   ]
  },
  {
   "cell_type": "code",
   "execution_count": 3,
   "metadata": {
    "ExecuteTime": {
     "end_time": "2020-07-15T17:11:59.207863Z",
     "start_time": "2020-07-15T17:11:58.559580Z"
    }
   },
   "outputs": [
    {
     "data": {
      "text/html": [
       "<div>\n",
       "<style scoped>\n",
       "    .dataframe tbody tr th:only-of-type {\n",
       "        vertical-align: middle;\n",
       "    }\n",
       "\n",
       "    .dataframe tbody tr th {\n",
       "        vertical-align: top;\n",
       "    }\n",
       "\n",
       "    .dataframe thead th {\n",
       "        text-align: right;\n",
       "    }\n",
       "</style>\n",
       "<table border=\"1\" class=\"dataframe\">\n",
       "  <thead>\n",
       "    <tr style=\"text-align: right;\">\n",
       "      <th></th>\n",
       "      <th>COUNTYNAME</th>\n",
       "      <th>2016</th>\n",
       "      <th>2021</th>\n",
       "      <th>2026</th>\n",
       "      <th>2031</th>\n",
       "      <th>2036</th>\n",
       "      <th>2016-2021</th>\n",
       "      <th>2021-2026</th>\n",
       "      <th>2026-2031</th>\n",
       "      <th>2031-2036</th>\n",
       "      <th>2016-2036</th>\n",
       "    </tr>\n",
       "  </thead>\n",
       "  <tbody>\n",
       "    <tr>\n",
       "      <th>0</th>\n",
       "      <td>Androscoggin</td>\n",
       "      <td>107269</td>\n",
       "      <td>107967.801439</td>\n",
       "      <td>108578.742776</td>\n",
       "      <td>108769.413854</td>\n",
       "      <td>108643.149064</td>\n",
       "      <td>0.006514</td>\n",
       "      <td>0.005659</td>\n",
       "      <td>0.001756</td>\n",
       "      <td>-0.001161</td>\n",
       "      <td>0.012810</td>\n",
       "    </tr>\n",
       "    <tr>\n",
       "      <th>1</th>\n",
       "      <td>Aroostook</td>\n",
       "      <td>68116</td>\n",
       "      <td>67928.772431</td>\n",
       "      <td>67735.738377</td>\n",
       "      <td>67337.098159</td>\n",
       "      <td>66857.364164</td>\n",
       "      <td>-0.002749</td>\n",
       "      <td>-0.002842</td>\n",
       "      <td>-0.005885</td>\n",
       "      <td>-0.007124</td>\n",
       "      <td>-0.018478</td>\n",
       "    </tr>\n",
       "    <tr>\n",
       "      <th>2</th>\n",
       "      <td>Cumberland</td>\n",
       "      <td>290905</td>\n",
       "      <td>294711.329744</td>\n",
       "      <td>298631.650980</td>\n",
       "      <td>301376.156664</td>\n",
       "      <td>302943.736659</td>\n",
       "      <td>0.013084</td>\n",
       "      <td>0.013302</td>\n",
       "      <td>0.009190</td>\n",
       "      <td>0.005201</td>\n",
       "      <td>0.041384</td>\n",
       "    </tr>\n",
       "    <tr>\n",
       "      <th>3</th>\n",
       "      <td>Franklin</td>\n",
       "      <td>30071</td>\n",
       "      <td>29963.778184</td>\n",
       "      <td>30029.549316</td>\n",
       "      <td>29967.173578</td>\n",
       "      <td>29772.523196</td>\n",
       "      <td>-0.003566</td>\n",
       "      <td>0.002195</td>\n",
       "      <td>-0.002077</td>\n",
       "      <td>-0.006495</td>\n",
       "      <td>-0.009926</td>\n",
       "    </tr>\n",
       "    <tr>\n",
       "      <th>4</th>\n",
       "      <td>Hancock</td>\n",
       "      <td>54398</td>\n",
       "      <td>54588.458399</td>\n",
       "      <td>54679.273561</td>\n",
       "      <td>54521.558330</td>\n",
       "      <td>54152.494022</td>\n",
       "      <td>0.003501</td>\n",
       "      <td>0.001664</td>\n",
       "      <td>-0.002884</td>\n",
       "      <td>-0.006769</td>\n",
       "      <td>-0.004513</td>\n",
       "    </tr>\n",
       "  </tbody>\n",
       "</table>\n",
       "</div>"
      ],
      "text/plain": [
       "     COUNTYNAME    2016           2021           2026           2031  \\\n",
       "0  Androscoggin  107269  107967.801439  108578.742776  108769.413854   \n",
       "1     Aroostook   68116   67928.772431   67735.738377   67337.098159   \n",
       "2    Cumberland  290905  294711.329744  298631.650980  301376.156664   \n",
       "3      Franklin   30071   29963.778184   30029.549316   29967.173578   \n",
       "4       Hancock   54398   54588.458399   54679.273561   54521.558330   \n",
       "\n",
       "            2036  2016-2021  2021-2026  2026-2031  2031-2036  2016-2036  \n",
       "0  108643.149064   0.006514   0.005659   0.001756  -0.001161   0.012810  \n",
       "1   66857.364164  -0.002749  -0.002842  -0.005885  -0.007124  -0.018478  \n",
       "2  302943.736659   0.013084   0.013302   0.009190   0.005201   0.041384  \n",
       "3   29772.523196  -0.003566   0.002195  -0.002077  -0.006495  -0.009926  \n",
       "4   54152.494022   0.003501   0.001664  -0.002884  -0.006769  -0.004513  "
      ]
     },
     "execution_count": 3,
     "metadata": {},
     "output_type": "execute_result"
    }
   ],
   "source": [
    "maine_data = pd.read_excel('https://www.maine.gov/dafs/economist/sites/maine.gov.dafs.economist/files/inline-files/MaineStateCountyPopulationProjections2036.xlsx', sheet_name='summary', header=[0, 1])\n",
    "maine_data.columns = maine_data.columns.droplevel()\n",
    "maine_data.rename(columns={ maine_data.columns[0]: \"COUNTYNAME\" }, inplace = True)\n",
    "maine_data.head()"
   ]
  },
  {
   "cell_type": "markdown",
   "metadata": {},
   "source": [
    "# County latitude and longitude data for the state of Maine\n",
    "\n",
    "The data below was downloaded from [weather.gov](https://www.weather.gov/gis/Counties) and contains the latitude and longtude for every county in the USA. Data is filtered to only account for the state of Maine, and the geometry column is dropped since we aren't concerned with the polygon data. These steps make it easier to work with the data."
   ]
  },
  {
   "cell_type": "code",
   "execution_count": 4,
   "metadata": {
    "ExecuteTime": {
     "end_time": "2020-07-15T17:12:00.385703Z",
     "start_time": "2020-07-15T17:11:59.210844Z"
    }
   },
   "outputs": [
    {
     "data": {
      "text/html": [
       "<div>\n",
       "<style scoped>\n",
       "    .dataframe tbody tr th:only-of-type {\n",
       "        vertical-align: middle;\n",
       "    }\n",
       "\n",
       "    .dataframe tbody tr th {\n",
       "        vertical-align: top;\n",
       "    }\n",
       "\n",
       "    .dataframe thead th {\n",
       "        text-align: right;\n",
       "    }\n",
       "</style>\n",
       "<table border=\"1\" class=\"dataframe\">\n",
       "  <thead>\n",
       "    <tr style=\"text-align: right;\">\n",
       "      <th></th>\n",
       "      <th>STATE</th>\n",
       "      <th>CWA</th>\n",
       "      <th>COUNTYNAME</th>\n",
       "      <th>FIPS</th>\n",
       "      <th>TIME_ZONE</th>\n",
       "      <th>FE_AREA</th>\n",
       "      <th>LON</th>\n",
       "      <th>LAT</th>\n",
       "    </tr>\n",
       "  </thead>\n",
       "  <tbody>\n",
       "    <tr>\n",
       "      <th>0</th>\n",
       "      <td>ME</td>\n",
       "      <td>CAR</td>\n",
       "      <td>Washington</td>\n",
       "      <td>23029</td>\n",
       "      <td>E</td>\n",
       "      <td>se</td>\n",
       "      <td>-67.6361</td>\n",
       "      <td>45.0363</td>\n",
       "    </tr>\n",
       "    <tr>\n",
       "      <th>1</th>\n",
       "      <td>GA</td>\n",
       "      <td>CHS</td>\n",
       "      <td>McIntosh</td>\n",
       "      <td>13191</td>\n",
       "      <td>E</td>\n",
       "      <td>se</td>\n",
       "      <td>-81.2646</td>\n",
       "      <td>31.5329</td>\n",
       "    </tr>\n",
       "    <tr>\n",
       "      <th>2</th>\n",
       "      <td>GA</td>\n",
       "      <td>CHS</td>\n",
       "      <td>Liberty</td>\n",
       "      <td>13179</td>\n",
       "      <td>E</td>\n",
       "      <td>se</td>\n",
       "      <td>-81.2103</td>\n",
       "      <td>31.7093</td>\n",
       "    </tr>\n",
       "    <tr>\n",
       "      <th>3</th>\n",
       "      <td>AS</td>\n",
       "      <td>PPG</td>\n",
       "      <td>Swains Island</td>\n",
       "      <td>60040</td>\n",
       "      <td>S</td>\n",
       "      <td>None</td>\n",
       "      <td>-171.0459</td>\n",
       "      <td>-11.0843</td>\n",
       "    </tr>\n",
       "    <tr>\n",
       "      <th>4</th>\n",
       "      <td>AS</td>\n",
       "      <td>PPG</td>\n",
       "      <td>Manu'a</td>\n",
       "      <td>60020</td>\n",
       "      <td>S</td>\n",
       "      <td>None</td>\n",
       "      <td>-169.5060</td>\n",
       "      <td>-14.2219</td>\n",
       "    </tr>\n",
       "  </tbody>\n",
       "</table>\n",
       "</div>"
      ],
      "text/plain": [
       "  STATE  CWA     COUNTYNAME   FIPS TIME_ZONE FE_AREA       LON      LAT\n",
       "0    ME  CAR     Washington  23029         E      se  -67.6361  45.0363\n",
       "1    GA  CHS       McIntosh  13191         E      se  -81.2646  31.5329\n",
       "2    GA  CHS        Liberty  13179         E      se  -81.2103  31.7093\n",
       "3    AS  PPG  Swains Island  60040         S    None -171.0459 -11.0843\n",
       "4    AS  PPG         Manu'a  60020         S    None -169.5060 -14.2219"
      ]
     },
     "execution_count": 4,
     "metadata": {},
     "output_type": "execute_result"
    }
   ],
   "source": [
    "gdf = geopandas.read_file('data\\county_data_from_weather_gov\\c_03mr20.shp')\n",
    "gdf.drop(['geometry'], axis=1, inplace=True)\n",
    "gdf.head()"
   ]
  },
  {
   "cell_type": "code",
   "execution_count": 5,
   "metadata": {
    "ExecuteTime": {
     "end_time": "2020-07-15T17:12:00.408635Z",
     "start_time": "2020-07-15T17:12:00.387693Z"
    }
   },
   "outputs": [
    {
     "data": {
      "text/html": [
       "<div>\n",
       "<style scoped>\n",
       "    .dataframe tbody tr th:only-of-type {\n",
       "        vertical-align: middle;\n",
       "    }\n",
       "\n",
       "    .dataframe tbody tr th {\n",
       "        vertical-align: top;\n",
       "    }\n",
       "\n",
       "    .dataframe thead th {\n",
       "        text-align: right;\n",
       "    }\n",
       "</style>\n",
       "<table border=\"1\" class=\"dataframe\">\n",
       "  <thead>\n",
       "    <tr style=\"text-align: right;\">\n",
       "      <th></th>\n",
       "      <th>STATE</th>\n",
       "      <th>CWA</th>\n",
       "      <th>COUNTYNAME</th>\n",
       "      <th>FIPS</th>\n",
       "      <th>TIME_ZONE</th>\n",
       "      <th>FE_AREA</th>\n",
       "      <th>LON</th>\n",
       "      <th>LAT</th>\n",
       "    </tr>\n",
       "  </thead>\n",
       "  <tbody>\n",
       "    <tr>\n",
       "      <th>0</th>\n",
       "      <td>ME</td>\n",
       "      <td>CAR</td>\n",
       "      <td>Washington</td>\n",
       "      <td>23029</td>\n",
       "      <td>E</td>\n",
       "      <td>se</td>\n",
       "      <td>-67.6361</td>\n",
       "      <td>45.0363</td>\n",
       "    </tr>\n",
       "    <tr>\n",
       "      <th>264</th>\n",
       "      <td>ME</td>\n",
       "      <td>GYX</td>\n",
       "      <td>Androscoggin</td>\n",
       "      <td>23001</td>\n",
       "      <td>E</td>\n",
       "      <td>sw</td>\n",
       "      <td>-70.2045</td>\n",
       "      <td>44.1654</td>\n",
       "    </tr>\n",
       "    <tr>\n",
       "      <th>282</th>\n",
       "      <td>ME</td>\n",
       "      <td>GYX</td>\n",
       "      <td>Knox</td>\n",
       "      <td>23013</td>\n",
       "      <td>E</td>\n",
       "      <td>sc</td>\n",
       "      <td>-69.1730</td>\n",
       "      <td>44.1500</td>\n",
       "    </tr>\n",
       "    <tr>\n",
       "      <th>283</th>\n",
       "      <td>ME</td>\n",
       "      <td>GYX</td>\n",
       "      <td>Sagadahoc</td>\n",
       "      <td>23023</td>\n",
       "      <td>E</td>\n",
       "      <td>sc</td>\n",
       "      <td>-69.8613</td>\n",
       "      <td>43.9705</td>\n",
       "    </tr>\n",
       "    <tr>\n",
       "      <th>284</th>\n",
       "      <td>ME</td>\n",
       "      <td>GYX</td>\n",
       "      <td>Lincoln</td>\n",
       "      <td>23015</td>\n",
       "      <td>E</td>\n",
       "      <td>sc</td>\n",
       "      <td>-69.5431</td>\n",
       "      <td>44.0752</td>\n",
       "    </tr>\n",
       "  </tbody>\n",
       "</table>\n",
       "</div>"
      ],
      "text/plain": [
       "    STATE  CWA    COUNTYNAME   FIPS TIME_ZONE FE_AREA      LON      LAT\n",
       "0      ME  CAR    Washington  23029         E      se -67.6361  45.0363\n",
       "264    ME  GYX  Androscoggin  23001         E      sw -70.2045  44.1654\n",
       "282    ME  GYX          Knox  23013         E      sc -69.1730  44.1500\n",
       "283    ME  GYX     Sagadahoc  23023         E      sc -69.8613  43.9705\n",
       "284    ME  GYX       Lincoln  23015         E      sc -69.5431  44.0752"
      ]
     },
     "execution_count": 5,
     "metadata": {},
     "output_type": "execute_result"
    }
   ],
   "source": [
    "gdf = gdf[gdf.STATE == \"ME\"]\n",
    "gdf.head()"
   ]
  },
  {
   "cell_type": "markdown",
   "metadata": {},
   "source": [
    "# Merge the dataframes\n",
    "\n",
    "We need to combine the data into a single dataframe for ease of working with it. Since both dataframes have a COUNTYNAME column that should include unique values we will use that column as the merge point."
   ]
  },
  {
   "cell_type": "code",
   "execution_count": 6,
   "metadata": {
    "ExecuteTime": {
     "end_time": "2020-07-15T17:12:00.447531Z",
     "start_time": "2020-07-15T17:12:00.411628Z"
    }
   },
   "outputs": [
    {
     "data": {
      "text/html": [
       "<div>\n",
       "<style scoped>\n",
       "    .dataframe tbody tr th:only-of-type {\n",
       "        vertical-align: middle;\n",
       "    }\n",
       "\n",
       "    .dataframe tbody tr th {\n",
       "        vertical-align: top;\n",
       "    }\n",
       "\n",
       "    .dataframe thead th {\n",
       "        text-align: right;\n",
       "    }\n",
       "</style>\n",
       "<table border=\"1\" class=\"dataframe\">\n",
       "  <thead>\n",
       "    <tr style=\"text-align: right;\">\n",
       "      <th></th>\n",
       "      <th>COUNTYNAME</th>\n",
       "      <th>2016</th>\n",
       "      <th>2021</th>\n",
       "      <th>2026</th>\n",
       "      <th>2031</th>\n",
       "      <th>2036</th>\n",
       "      <th>2016-2021</th>\n",
       "      <th>2021-2026</th>\n",
       "      <th>2026-2031</th>\n",
       "      <th>2031-2036</th>\n",
       "      <th>2016-2036</th>\n",
       "      <th>STATE</th>\n",
       "      <th>CWA</th>\n",
       "      <th>FIPS</th>\n",
       "      <th>TIME_ZONE</th>\n",
       "      <th>FE_AREA</th>\n",
       "      <th>LON</th>\n",
       "      <th>LAT</th>\n",
       "    </tr>\n",
       "  </thead>\n",
       "  <tbody>\n",
       "    <tr>\n",
       "      <th>0</th>\n",
       "      <td>Androscoggin</td>\n",
       "      <td>107269</td>\n",
       "      <td>107967.801439</td>\n",
       "      <td>108578.742776</td>\n",
       "      <td>108769.413854</td>\n",
       "      <td>108643.149064</td>\n",
       "      <td>0.006514</td>\n",
       "      <td>0.005659</td>\n",
       "      <td>0.001756</td>\n",
       "      <td>-0.001161</td>\n",
       "      <td>0.012810</td>\n",
       "      <td>ME</td>\n",
       "      <td>GYX</td>\n",
       "      <td>23001</td>\n",
       "      <td>E</td>\n",
       "      <td>sw</td>\n",
       "      <td>-70.2045</td>\n",
       "      <td>44.1654</td>\n",
       "    </tr>\n",
       "    <tr>\n",
       "      <th>1</th>\n",
       "      <td>Aroostook</td>\n",
       "      <td>68116</td>\n",
       "      <td>67928.772431</td>\n",
       "      <td>67735.738377</td>\n",
       "      <td>67337.098159</td>\n",
       "      <td>66857.364164</td>\n",
       "      <td>-0.002749</td>\n",
       "      <td>-0.002842</td>\n",
       "      <td>-0.005885</td>\n",
       "      <td>-0.007124</td>\n",
       "      <td>-0.018478</td>\n",
       "      <td>ME</td>\n",
       "      <td>CAR</td>\n",
       "      <td>23003</td>\n",
       "      <td>E</td>\n",
       "      <td>nn</td>\n",
       "      <td>-68.5988</td>\n",
       "      <td>46.6588</td>\n",
       "    </tr>\n",
       "    <tr>\n",
       "      <th>2</th>\n",
       "      <td>Cumberland</td>\n",
       "      <td>290905</td>\n",
       "      <td>294711.329744</td>\n",
       "      <td>298631.650980</td>\n",
       "      <td>301376.156664</td>\n",
       "      <td>302943.736659</td>\n",
       "      <td>0.013084</td>\n",
       "      <td>0.013302</td>\n",
       "      <td>0.009190</td>\n",
       "      <td>0.005201</td>\n",
       "      <td>0.041384</td>\n",
       "      <td>ME</td>\n",
       "      <td>GYX</td>\n",
       "      <td>23005</td>\n",
       "      <td>E</td>\n",
       "      <td>sw</td>\n",
       "      <td>-70.4096</td>\n",
       "      <td>43.8487</td>\n",
       "    </tr>\n",
       "    <tr>\n",
       "      <th>3</th>\n",
       "      <td>Franklin</td>\n",
       "      <td>30071</td>\n",
       "      <td>29963.778184</td>\n",
       "      <td>30029.549316</td>\n",
       "      <td>29967.173578</td>\n",
       "      <td>29772.523196</td>\n",
       "      <td>-0.003566</td>\n",
       "      <td>0.002195</td>\n",
       "      <td>-0.002077</td>\n",
       "      <td>-0.006495</td>\n",
       "      <td>-0.009926</td>\n",
       "      <td>ME</td>\n",
       "      <td>GYX</td>\n",
       "      <td>23007</td>\n",
       "      <td>E</td>\n",
       "      <td>ww</td>\n",
       "      <td>-70.4440</td>\n",
       "      <td>44.9740</td>\n",
       "    </tr>\n",
       "    <tr>\n",
       "      <th>4</th>\n",
       "      <td>Hancock</td>\n",
       "      <td>54398</td>\n",
       "      <td>54588.458399</td>\n",
       "      <td>54679.273561</td>\n",
       "      <td>54521.558330</td>\n",
       "      <td>54152.494022</td>\n",
       "      <td>0.003501</td>\n",
       "      <td>0.001664</td>\n",
       "      <td>-0.002884</td>\n",
       "      <td>-0.006769</td>\n",
       "      <td>-0.004513</td>\n",
       "      <td>ME</td>\n",
       "      <td>CAR</td>\n",
       "      <td>23009</td>\n",
       "      <td>E</td>\n",
       "      <td>se</td>\n",
       "      <td>-68.3531</td>\n",
       "      <td>44.6749</td>\n",
       "    </tr>\n",
       "  </tbody>\n",
       "</table>\n",
       "</div>"
      ],
      "text/plain": [
       "     COUNTYNAME    2016           2021           2026           2031  \\\n",
       "0  Androscoggin  107269  107967.801439  108578.742776  108769.413854   \n",
       "1     Aroostook   68116   67928.772431   67735.738377   67337.098159   \n",
       "2    Cumberland  290905  294711.329744  298631.650980  301376.156664   \n",
       "3      Franklin   30071   29963.778184   30029.549316   29967.173578   \n",
       "4       Hancock   54398   54588.458399   54679.273561   54521.558330   \n",
       "\n",
       "            2036  2016-2021  2021-2026  2026-2031  2031-2036  2016-2036 STATE  \\\n",
       "0  108643.149064   0.006514   0.005659   0.001756  -0.001161   0.012810    ME   \n",
       "1   66857.364164  -0.002749  -0.002842  -0.005885  -0.007124  -0.018478    ME   \n",
       "2  302943.736659   0.013084   0.013302   0.009190   0.005201   0.041384    ME   \n",
       "3   29772.523196  -0.003566   0.002195  -0.002077  -0.006495  -0.009926    ME   \n",
       "4   54152.494022   0.003501   0.001664  -0.002884  -0.006769  -0.004513    ME   \n",
       "\n",
       "   CWA   FIPS TIME_ZONE FE_AREA      LON      LAT  \n",
       "0  GYX  23001         E      sw -70.2045  44.1654  \n",
       "1  CAR  23003         E      nn -68.5988  46.6588  \n",
       "2  GYX  23005         E      sw -70.4096  43.8487  \n",
       "3  GYX  23007         E      ww -70.4440  44.9740  \n",
       "4  CAR  23009         E      se -68.3531  44.6749  "
      ]
     },
     "execution_count": 6,
     "metadata": {},
     "output_type": "execute_result"
    }
   ],
   "source": [
    "data_merged = maine_data.merge(gdf, on=\"COUNTYNAME\", how = 'inner')\n",
    "data_merged.head()"
   ]
  },
  {
   "cell_type": "markdown",
   "metadata": {},
   "source": [
    "# Create map of Maine\n",
    "\n",
    "We start by using geolocator to find the coordinates for the center of Maine to create our base map. Then we use the merged data to find the coordinates of the center of each county and we put a marker there with the county name and we make the bubble relfect a scaled representation of the change in population projected from 2016 through 2036.\n",
    "\n",
    "This provides us our first analytic. The bubble doesn't show growth(loss) only a representation of the projected change in population. The label includes the county name and the information on projected population change."
   ]
  },
  {
   "cell_type": "code",
   "execution_count": 7,
   "metadata": {
    "ExecuteTime": {
     "end_time": "2020-07-15T17:12:01.095856Z",
     "start_time": "2020-07-15T17:12:00.451520Z"
    }
   },
   "outputs": [
    {
     "name": "stdout",
     "output_type": "stream",
     "text": [
      "The geograpical coordinate of the center of Maine is 45.709097, -68.8590201.\n"
     ]
    }
   ],
   "source": [
    "state = 'Maine'\n",
    "#we will use this location as center of our map\n",
    "geolocater = Nominatim(user_agent=\"dummy-exp\")\n",
    "center = geolocater.geocode(state)\n",
    "lat = center.latitude\n",
    "lon = center.longitude\n",
    "print('The geograpical coordinate of the center of {} is {}, {}.'.format(state, lat, lon))"
   ]
  },
  {
   "cell_type": "code",
   "execution_count": 8,
   "metadata": {
    "ExecuteTime": {
     "end_time": "2020-07-15T17:12:01.183600Z",
     "start_time": "2020-07-15T17:12:01.107905Z"
    }
   },
   "outputs": [
    {
     "data": {
      "text/html": [
       "<div style=\"width:100%;\"><div style=\"position:relative;width:100%;height:0;padding-bottom:60%;\"><span style=\"color:#565656\">Make this Notebook Trusted to load map: File -> Trust Notebook</span><iframe src=\"about:blank\" style=\"position:absolute;width:100%;height:100%;left:0;top:0;border:none !important;\" data-html=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 onload=\"this.contentDocument.open();this.contentDocument.write(atob(this.getAttribute('data-html')));this.contentDocument.close();\" allowfullscreen webkitallowfullscreen mozallowfullscreen></iframe></div></div>"
      ],
      "text/plain": [
       "<folium.folium.Map at 0x28e880c4088>"
      ]
     },
     "execution_count": 8,
     "metadata": {},
     "output_type": "execute_result"
    }
   ],
   "source": [
    "map_maine=folium.Map(location=[lat,lon],zoom_start=6)\n",
    "for lat, long, area, delta_pop in zip(data_merged['LAT'], data_merged['LON'], data_merged['COUNTYNAME'], data_merged['2016-2036']):\n",
    "    label = folium.Popup('{} County\\nPopulation change through 2036: {:.2f}%'.format(area, delta_pop*100), \n",
    "                         parse_html=True, \n",
    "                         max_width=325, \n",
    "                         min_width=325)\n",
    "    folium.CircleMarker(\n",
    "        [lat, long],\n",
    "        radius=abs(delta_pop) * 250 / 2,\n",
    "        popup=label,\n",
    "        color='blue',\n",
    "        fill=False,\n",
    "        fill_color='blue',\n",
    "        fill_opacity=1,\n",
    "        parse_html=False).add_to(map_maine)\n",
    "    \n",
    "map_maine"
   ]
  },
  {
   "cell_type": "markdown",
   "metadata": {},
   "source": [
    "# Maine COVID-19 data\n",
    "\n",
    "Existing data for analysis:\n",
    "- Change in projected polulation from 2016 through 2036\n",
    "\n",
    "Let's add a new data point by gathering the COVID-19 data for each county, updated daily at 5PM EDT, and since we are sourcing it from the web we should have the most updated data daily."
   ]
  },
  {
   "cell_type": "code",
   "execution_count": 9,
   "metadata": {
    "ExecuteTime": {
     "end_time": "2020-07-15T17:12:01.892703Z",
     "start_time": "2020-07-15T17:12:01.186555Z"
    }
   },
   "outputs": [
    {
     "data": {
      "text/html": [
       "<div>\n",
       "<style scoped>\n",
       "    .dataframe tbody tr th:only-of-type {\n",
       "        vertical-align: middle;\n",
       "    }\n",
       "\n",
       "    .dataframe tbody tr th {\n",
       "        vertical-align: top;\n",
       "    }\n",
       "\n",
       "    .dataframe thead th {\n",
       "        text-align: right;\n",
       "    }\n",
       "</style>\n",
       "<table border=\"1\" class=\"dataframe\">\n",
       "  <thead>\n",
       "    <tr style=\"text-align: right;\">\n",
       "      <th></th>\n",
       "      <th>COUNTYNAME</th>\n",
       "      <th>DATA_REFRESH_DT</th>\n",
       "      <th>DATA_AS_OF_DT</th>\n",
       "      <th>CASES</th>\n",
       "      <th>DEATHS</th>\n",
       "      <th>RECOVERIES</th>\n",
       "      <th>HOSPITALIZATIONS</th>\n",
       "    </tr>\n",
       "  </thead>\n",
       "  <tbody>\n",
       "    <tr>\n",
       "      <th>0</th>\n",
       "      <td>Androscoggin</td>\n",
       "      <td>2020-07-15</td>\n",
       "      <td>2020-07-14</td>\n",
       "      <td>506</td>\n",
       "      <td>4</td>\n",
       "      <td>467</td>\n",
       "      <td>38</td>\n",
       "    </tr>\n",
       "    <tr>\n",
       "      <th>1</th>\n",
       "      <td>Aroostook</td>\n",
       "      <td>2020-07-15</td>\n",
       "      <td>2020-07-14</td>\n",
       "      <td>24</td>\n",
       "      <td>1</td>\n",
       "      <td>20</td>\n",
       "      <td>4</td>\n",
       "    </tr>\n",
       "    <tr>\n",
       "      <th>2</th>\n",
       "      <td>Cumberland</td>\n",
       "      <td>2020-07-15</td>\n",
       "      <td>2020-07-14</td>\n",
       "      <td>1901</td>\n",
       "      <td>67</td>\n",
       "      <td>1607</td>\n",
       "      <td>181</td>\n",
       "    </tr>\n",
       "    <tr>\n",
       "      <th>3</th>\n",
       "      <td>Franklin</td>\n",
       "      <td>2020-07-15</td>\n",
       "      <td>2020-07-14</td>\n",
       "      <td>41</td>\n",
       "      <td>1</td>\n",
       "      <td>37</td>\n",
       "      <td>3</td>\n",
       "    </tr>\n",
       "    <tr>\n",
       "      <th>4</th>\n",
       "      <td>Hancock</td>\n",
       "      <td>2020-07-15</td>\n",
       "      <td>2020-07-14</td>\n",
       "      <td>18</td>\n",
       "      <td>1</td>\n",
       "      <td>15</td>\n",
       "      <td>2</td>\n",
       "    </tr>\n",
       "  </tbody>\n",
       "</table>\n",
       "</div>"
      ],
      "text/plain": [
       "     COUNTYNAME DATA_REFRESH_DT DATA_AS_OF_DT  CASES  DEATHS  RECOVERIES  \\\n",
       "0  Androscoggin      2020-07-15    2020-07-14    506       4         467   \n",
       "1     Aroostook      2020-07-15    2020-07-14     24       1          20   \n",
       "2    Cumberland      2020-07-15    2020-07-14   1901      67        1607   \n",
       "3      Franklin      2020-07-15    2020-07-14     41       1          37   \n",
       "4       Hancock      2020-07-15    2020-07-14     18       1          15   \n",
       "\n",
       "   HOSPITALIZATIONS  \n",
       "0                38  \n",
       "1                 4  \n",
       "2               181  \n",
       "3                 3  \n",
       "4                 2  "
      ]
     },
     "execution_count": 9,
     "metadata": {},
     "output_type": "execute_result"
    }
   ],
   "source": [
    "maine_covid = pd.read_csv('https://docs.google.com/spreadsheets/d/e/2PACX-1vRPtRRaID4XRBSnrzGomnTtUUkq5qsq5zj8fGpg5xse8ytsyFUVqAKKypYybVpsU5cHgIbY3BOiynOC/pub?gid=0&single=true&output=csv')\n",
    "maine_covid.rename(columns={ maine_covid.columns[0]: \"COUNTYNAME\" }, inplace = True)\n",
    "maine_covid.head()"
   ]
  },
  {
   "cell_type": "markdown",
   "metadata": {},
   "source": [
    "## Let's merge the COVID-19 data into our main dataframe"
   ]
  },
  {
   "cell_type": "code",
   "execution_count": 10,
   "metadata": {
    "ExecuteTime": {
     "end_time": "2020-07-15T17:12:01.936552Z",
     "start_time": "2020-07-15T17:12:01.898653Z"
    }
   },
   "outputs": [
    {
     "data": {
      "text/html": [
       "<div>\n",
       "<style scoped>\n",
       "    .dataframe tbody tr th:only-of-type {\n",
       "        vertical-align: middle;\n",
       "    }\n",
       "\n",
       "    .dataframe tbody tr th {\n",
       "        vertical-align: top;\n",
       "    }\n",
       "\n",
       "    .dataframe thead th {\n",
       "        text-align: right;\n",
       "    }\n",
       "</style>\n",
       "<table border=\"1\" class=\"dataframe\">\n",
       "  <thead>\n",
       "    <tr style=\"text-align: right;\">\n",
       "      <th></th>\n",
       "      <th>COUNTYNAME</th>\n",
       "      <th>2016</th>\n",
       "      <th>2021</th>\n",
       "      <th>2026</th>\n",
       "      <th>2031</th>\n",
       "      <th>2036</th>\n",
       "      <th>2016-2021</th>\n",
       "      <th>2021-2026</th>\n",
       "      <th>2026-2031</th>\n",
       "      <th>2031-2036</th>\n",
       "      <th>2016-2036</th>\n",
       "      <th>STATE</th>\n",
       "      <th>CWA</th>\n",
       "      <th>FIPS</th>\n",
       "      <th>TIME_ZONE</th>\n",
       "      <th>FE_AREA</th>\n",
       "      <th>LON</th>\n",
       "      <th>LAT</th>\n",
       "      <th>DATA_REFRESH_DT</th>\n",
       "      <th>DATA_AS_OF_DT</th>\n",
       "      <th>CASES</th>\n",
       "      <th>DEATHS</th>\n",
       "      <th>RECOVERIES</th>\n",
       "      <th>HOSPITALIZATIONS</th>\n",
       "    </tr>\n",
       "  </thead>\n",
       "  <tbody>\n",
       "    <tr>\n",
       "      <th>0</th>\n",
       "      <td>Androscoggin</td>\n",
       "      <td>107269</td>\n",
       "      <td>107967.801439</td>\n",
       "      <td>108578.742776</td>\n",
       "      <td>108769.413854</td>\n",
       "      <td>108643.149064</td>\n",
       "      <td>0.006514</td>\n",
       "      <td>0.005659</td>\n",
       "      <td>0.001756</td>\n",
       "      <td>-0.001161</td>\n",
       "      <td>0.012810</td>\n",
       "      <td>ME</td>\n",
       "      <td>GYX</td>\n",
       "      <td>23001</td>\n",
       "      <td>E</td>\n",
       "      <td>sw</td>\n",
       "      <td>-70.2045</td>\n",
       "      <td>44.1654</td>\n",
       "      <td>2020-07-15</td>\n",
       "      <td>2020-07-14</td>\n",
       "      <td>506</td>\n",
       "      <td>4</td>\n",
       "      <td>467</td>\n",
       "      <td>38</td>\n",
       "    </tr>\n",
       "    <tr>\n",
       "      <th>1</th>\n",
       "      <td>Aroostook</td>\n",
       "      <td>68116</td>\n",
       "      <td>67928.772431</td>\n",
       "      <td>67735.738377</td>\n",
       "      <td>67337.098159</td>\n",
       "      <td>66857.364164</td>\n",
       "      <td>-0.002749</td>\n",
       "      <td>-0.002842</td>\n",
       "      <td>-0.005885</td>\n",
       "      <td>-0.007124</td>\n",
       "      <td>-0.018478</td>\n",
       "      <td>ME</td>\n",
       "      <td>CAR</td>\n",
       "      <td>23003</td>\n",
       "      <td>E</td>\n",
       "      <td>nn</td>\n",
       "      <td>-68.5988</td>\n",
       "      <td>46.6588</td>\n",
       "      <td>2020-07-15</td>\n",
       "      <td>2020-07-14</td>\n",
       "      <td>24</td>\n",
       "      <td>1</td>\n",
       "      <td>20</td>\n",
       "      <td>4</td>\n",
       "    </tr>\n",
       "    <tr>\n",
       "      <th>2</th>\n",
       "      <td>Cumberland</td>\n",
       "      <td>290905</td>\n",
       "      <td>294711.329744</td>\n",
       "      <td>298631.650980</td>\n",
       "      <td>301376.156664</td>\n",
       "      <td>302943.736659</td>\n",
       "      <td>0.013084</td>\n",
       "      <td>0.013302</td>\n",
       "      <td>0.009190</td>\n",
       "      <td>0.005201</td>\n",
       "      <td>0.041384</td>\n",
       "      <td>ME</td>\n",
       "      <td>GYX</td>\n",
       "      <td>23005</td>\n",
       "      <td>E</td>\n",
       "      <td>sw</td>\n",
       "      <td>-70.4096</td>\n",
       "      <td>43.8487</td>\n",
       "      <td>2020-07-15</td>\n",
       "      <td>2020-07-14</td>\n",
       "      <td>1901</td>\n",
       "      <td>67</td>\n",
       "      <td>1607</td>\n",
       "      <td>181</td>\n",
       "    </tr>\n",
       "    <tr>\n",
       "      <th>3</th>\n",
       "      <td>Franklin</td>\n",
       "      <td>30071</td>\n",
       "      <td>29963.778184</td>\n",
       "      <td>30029.549316</td>\n",
       "      <td>29967.173578</td>\n",
       "      <td>29772.523196</td>\n",
       "      <td>-0.003566</td>\n",
       "      <td>0.002195</td>\n",
       "      <td>-0.002077</td>\n",
       "      <td>-0.006495</td>\n",
       "      <td>-0.009926</td>\n",
       "      <td>ME</td>\n",
       "      <td>GYX</td>\n",
       "      <td>23007</td>\n",
       "      <td>E</td>\n",
       "      <td>ww</td>\n",
       "      <td>-70.4440</td>\n",
       "      <td>44.9740</td>\n",
       "      <td>2020-07-15</td>\n",
       "      <td>2020-07-14</td>\n",
       "      <td>41</td>\n",
       "      <td>1</td>\n",
       "      <td>37</td>\n",
       "      <td>3</td>\n",
       "    </tr>\n",
       "    <tr>\n",
       "      <th>4</th>\n",
       "      <td>Hancock</td>\n",
       "      <td>54398</td>\n",
       "      <td>54588.458399</td>\n",
       "      <td>54679.273561</td>\n",
       "      <td>54521.558330</td>\n",
       "      <td>54152.494022</td>\n",
       "      <td>0.003501</td>\n",
       "      <td>0.001664</td>\n",
       "      <td>-0.002884</td>\n",
       "      <td>-0.006769</td>\n",
       "      <td>-0.004513</td>\n",
       "      <td>ME</td>\n",
       "      <td>CAR</td>\n",
       "      <td>23009</td>\n",
       "      <td>E</td>\n",
       "      <td>se</td>\n",
       "      <td>-68.3531</td>\n",
       "      <td>44.6749</td>\n",
       "      <td>2020-07-15</td>\n",
       "      <td>2020-07-14</td>\n",
       "      <td>18</td>\n",
       "      <td>1</td>\n",
       "      <td>15</td>\n",
       "      <td>2</td>\n",
       "    </tr>\n",
       "  </tbody>\n",
       "</table>\n",
       "</div>"
      ],
      "text/plain": [
       "     COUNTYNAME    2016           2021           2026           2031  \\\n",
       "0  Androscoggin  107269  107967.801439  108578.742776  108769.413854   \n",
       "1     Aroostook   68116   67928.772431   67735.738377   67337.098159   \n",
       "2    Cumberland  290905  294711.329744  298631.650980  301376.156664   \n",
       "3      Franklin   30071   29963.778184   30029.549316   29967.173578   \n",
       "4       Hancock   54398   54588.458399   54679.273561   54521.558330   \n",
       "\n",
       "            2036  2016-2021  2021-2026  2026-2031  2031-2036  2016-2036 STATE  \\\n",
       "0  108643.149064   0.006514   0.005659   0.001756  -0.001161   0.012810    ME   \n",
       "1   66857.364164  -0.002749  -0.002842  -0.005885  -0.007124  -0.018478    ME   \n",
       "2  302943.736659   0.013084   0.013302   0.009190   0.005201   0.041384    ME   \n",
       "3   29772.523196  -0.003566   0.002195  -0.002077  -0.006495  -0.009926    ME   \n",
       "4   54152.494022   0.003501   0.001664  -0.002884  -0.006769  -0.004513    ME   \n",
       "\n",
       "   CWA   FIPS TIME_ZONE FE_AREA      LON      LAT DATA_REFRESH_DT  \\\n",
       "0  GYX  23001         E      sw -70.2045  44.1654      2020-07-15   \n",
       "1  CAR  23003         E      nn -68.5988  46.6588      2020-07-15   \n",
       "2  GYX  23005         E      sw -70.4096  43.8487      2020-07-15   \n",
       "3  GYX  23007         E      ww -70.4440  44.9740      2020-07-15   \n",
       "4  CAR  23009         E      se -68.3531  44.6749      2020-07-15   \n",
       "\n",
       "  DATA_AS_OF_DT  CASES  DEATHS  RECOVERIES  HOSPITALIZATIONS  \n",
       "0    2020-07-14    506       4         467                38  \n",
       "1    2020-07-14     24       1          20                 4  \n",
       "2    2020-07-14   1901      67        1607               181  \n",
       "3    2020-07-14     41       1          37                 3  \n",
       "4    2020-07-14     18       1          15                 2  "
      ]
     },
     "execution_count": 10,
     "metadata": {},
     "output_type": "execute_result"
    }
   ],
   "source": [
    "data_merged = data_merged.merge(maine_covid, on=\"COUNTYNAME\", how = 'inner')\n",
    "data_merged.head()"
   ]
  },
  {
   "cell_type": "markdown",
   "metadata": {},
   "source": [
    "# Foursquare data\n",
    "\n",
    "Now that we have some interesting data regarding populaion change projections and the current state of COVID-19, we can explore some venue data from Foursquare.\n",
    "\n",
    "Maine is heavily dependent on tourism for its economy and seeing where venues are, and how COVID-19 is affecting them currently, could lead us to help predict where we might want to setup more business opportunities to support the economy or pull the plug on businesses that might not fare well in the environment."
   ]
  },
  {
   "cell_type": "code",
   "execution_count": 11,
   "metadata": {
    "ExecuteTime": {
     "end_time": "2020-07-15T17:12:01.949550Z",
     "start_time": "2020-07-15T17:12:01.938545Z"
    }
   },
   "outputs": [],
   "source": [
    "api_info = pd.read_csv(r'data\\4SQ_API_KEYS.csv')\n",
    "CID = api_info['CLIENT ID'].values[0]\n",
    "CSEC = api_info['CLIENT SECRET'].values[0]\n",
    "VER = '20200715'"
   ]
  },
  {
   "cell_type": "code",
   "execution_count": 14,
   "metadata": {
    "ExecuteTime": {
     "end_time": "2020-07-15T17:12:52.205135Z",
     "start_time": "2020-07-15T17:12:52.049553Z"
    }
   },
   "outputs": [
    {
     "name": "stdout",
     "output_type": "stream",
     "text": [
      "{'meta': {'code': 429, 'errorType': 'quota_exceeded', 'errorDetail': 'Quota exceeded', 'requestId': '5f0f385c7dadce74d12989f6'}, 'response': {}}\n"
     ]
    },
    {
     "ename": "KeyError",
     "evalue": "'categories'",
     "output_type": "error",
     "traceback": [
      "\u001b[1;31m---------------------------------------------------------------------------\u001b[0m",
      "\u001b[1;31mKeyError\u001b[0m                                  Traceback (most recent call last)",
      "\u001b[1;32m<ipython-input-14-5c9f120e7dc6>\u001b[0m in \u001b[0;36m<module>\u001b[1;34m\u001b[0m\n\u001b[0;32m     20\u001b[0m         \u001b[0mcategories_list\u001b[0m\u001b[1;33m.\u001b[0m\u001b[0mappend\u001b[0m\u001b[1;33m(\u001b[0m\u001b[1;33m(\u001b[0m\u001b[0mcategory\u001b[0m\u001b[1;33m[\u001b[0m\u001b[1;34m'name'\u001b[0m\u001b[1;33m]\u001b[0m\u001b[1;33m,\u001b[0m \u001b[0mcategory\u001b[0m\u001b[1;33m[\u001b[0m\u001b[1;34m'id'\u001b[0m\u001b[1;33m]\u001b[0m\u001b[1;33m)\u001b[0m\u001b[1;33m)\u001b[0m\u001b[1;33m\u001b[0m\u001b[1;33m\u001b[0m\u001b[0m\n\u001b[0;32m     21\u001b[0m \u001b[1;33m\u001b[0m\u001b[0m\n\u001b[1;32m---> 22\u001b[1;33m \u001b[0mprint_categories\u001b[0m\u001b[1;33m(\u001b[0m\u001b[0mresults\u001b[0m\u001b[1;33m[\u001b[0m\u001b[1;34m'response'\u001b[0m\u001b[1;33m]\u001b[0m\u001b[1;33m[\u001b[0m\u001b[1;34m'categories'\u001b[0m\u001b[1;33m]\u001b[0m\u001b[1;33m,\u001b[0m \u001b[1;36m0\u001b[0m\u001b[1;33m,\u001b[0m \u001b[1;36m0\u001b[0m\u001b[1;33m)\u001b[0m\u001b[1;33m\u001b[0m\u001b[1;33m\u001b[0m\u001b[0m\n\u001b[0m",
      "\u001b[1;31mKeyError\u001b[0m: 'categories'"
     ]
    }
   ],
   "source": [
    "categories_url = 'https://api.foursquare.com/v2/venues/categories?client_id={}&client_secret={}&v={}'.format(\n",
    "            CID, \n",
    "            CSEC, \n",
    "            VER)\n",
    "            \n",
    "results = requests.get(categories_url).json()\n",
    "\n",
    "print(results)\n",
    "\n",
    "categories_list = []\n",
    "# Let's print only the top-level categories and their IDs and also add them to categories_list\n",
    "\n",
    "def print_categories(categories, level=0, max_level=0):    \n",
    "    if level>max_level: return\n",
    "    out = ''\n",
    "    out += '-'*level\n",
    "    for category in categories:\n",
    "        print(out + category['name'] + ' (' + category['id'] + ')')\n",
    "        print_categories(category['categories'], level+1, max_level)\n",
    "        categories_list.append((category['name'], category['id']))\n",
    "        \n",
    "print_categories(results['response']['categories'], 0, 0)"
   ]
  },
  {
   "cell_type": "code",
   "execution_count": null,
   "metadata": {
    "ExecuteTime": {
     "end_time": "2020-07-15T17:12:02.354468Z",
     "start_time": "2020-07-15T17:11:56.528Z"
    }
   },
   "outputs": [],
   "source": [
    "def get_venues_count(lat, long, radius, categoryId):\n",
    "    explore_url = 'https://api.foursquare.com/v2/venues/explore?client_id={}&client_secret={}&v={}&ll={},{}&radius={}&categoryId={}'.format(\n",
    "                CID, \n",
    "                CSEC, \n",
    "                VER,\n",
    "                lat,\n",
    "                long,\n",
    "                radius,\n",
    "                categoryId)\n",
    "\n",
    "    # make the GET request\n",
    "    return requests.get(explore_url).json()['response']['totalResults']"
   ]
  },
  {
   "cell_type": "code",
   "execution_count": null,
   "metadata": {
    "ExecuteTime": {
     "end_time": "2020-07-15T17:12:02.355430Z",
     "start_time": "2020-07-15T17:11:56.533Z"
    }
   },
   "outputs": [],
   "source": [
    "df_venues = data_merged.copy()\n",
    "for c in categories_list:\n",
    "    df_venues[c[0]] = 0\n",
    "    \n",
    "df_venues.head()"
   ]
  },
  {
   "cell_type": "code",
   "execution_count": null,
   "metadata": {
    "ExecuteTime": {
     "end_time": "2020-07-15T17:12:02.357426Z",
     "start_time": "2020-07-15T17:11:56.535Z"
    }
   },
   "outputs": [],
   "source": [
    "for i, row in df_venues.iterrows():\n",
    "    for c in categories_list:        \n",
    "        df_venues.loc[i, c[0]] = get_venues_count(df_venues.iloc[i].LAT, df_venues.iloc[i].LON, radius=1000, categoryId=c[1])\n",
    "    print('{} County ({}, {}) data gathering complete'.format(df_venues.iloc[i].COUNTYNAME, df_venues.iloc[i].LAT, df_venues.iloc[i].LON))\n",
    "    df_venues.to_csv(r'data\\area_venues.csv')"
   ]
  },
  {
   "cell_type": "code",
   "execution_count": null,
   "metadata": {
    "ExecuteTime": {
     "end_time": "2020-07-15T17:12:02.359419Z",
     "start_time": "2020-07-15T17:11:56.540Z"
    }
   },
   "outputs": [],
   "source": [
    "df_venues=pd.read_csv(r'data\\area_venues.csv', index_col=0)\n",
    "df_venues.head()"
   ]
  },
  {
   "cell_type": "markdown",
   "metadata": {},
   "source": [
    "# Exploratory Data Analysis\n",
    "\n",
    "Lets make a box plot for Venues\n",
    "\n",
    "Normalize the data using MinMaxScaler (scale from 0 to 1). This scales the data and provides an easy to interpret score at the same time."
   ]
  },
  {
   "cell_type": "code",
   "execution_count": null,
   "metadata": {
    "ExecuteTime": {
     "end_time": "2020-07-15T17:12:02.360416Z",
     "start_time": "2020-07-15T17:11:56.543Z"
    }
   },
   "outputs": [],
   "source": [
    "X = df_venues.values[:,24:]\n",
    "scaled_dataset = MinMaxScaler().fit_transform(X)\n",
    "df_scaled = pd.DataFrame(scaled_dataset)\n",
    "df_scaled.columns = [c[0] for c in categories_list]\n",
    "df_scaled.head()"
   ]
  },
  {
   "cell_type": "code",
   "execution_count": null,
   "metadata": {
    "ExecuteTime": {
     "end_time": "2020-07-15T17:12:02.362413Z",
     "start_time": "2020-07-15T17:11:56.545Z"
    }
   },
   "outputs": [],
   "source": [
    "plt.figure(figsize=(14,8))\n",
    "ax = sns.boxplot(data = df_scaled)\n",
    "ax.set_ylabel('Count of venues (relative)', fontsize=25)\n",
    "ax.tick_params(labelsize=20)\n",
    "plt.xticks(rotation=45, ha='right')\n",
    "\n",
    "plt.show()"
   ]
  },
  {
   "cell_type": "code",
   "execution_count": null,
   "metadata": {},
   "outputs": [],
   "source": []
  }
 ],
 "metadata": {
  "kernelspec": {
   "display_name": "Python 3",
   "language": "python",
   "name": "python3"
  },
  "language_info": {
   "codemirror_mode": {
    "name": "ipython",
    "version": 3
   },
   "file_extension": ".py",
   "mimetype": "text/x-python",
   "name": "python",
   "nbconvert_exporter": "python",
   "pygments_lexer": "ipython3",
   "version": "3.7.7"
  }
 },
 "nbformat": 4,
 "nbformat_minor": 4
}
